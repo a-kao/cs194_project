{
 "metadata": {
  "name": ""
 },
 "nbformat": 3,
 "nbformat_minor": 0,
 "worksheets": [
  {
   "cells": [
    {
     "cell_type": "code",
     "collapsed": false,
     "input": [
      "import numpy as np\n",
      "import pandas as pd\n",
      "\n",
      "DATA_PATH = \"/Users/Alan_Work/Desktop/CS194/cs194_project/data/\"\n",
      "CATEGORY_SEASONPLAYER = \"SeasonPlayer/\"\n",
      "CATEGORY_SALARIES= \"Salaries/\"\n",
      "CATEGORY_PLAYERCAREER = \"PlayerCareerPerGame/\"\n",
      "CATEGORY_GAMES = \"Games/\"\n",
      "CATEGORY_GAMEDETAILS = \"GameDetails/\""
     ],
     "language": "python",
     "metadata": {},
     "outputs": [],
     "prompt_number": 1
    },
    {
     "cell_type": "code",
     "collapsed": false,
     "input": [
      "rawDF = pd.read_csv(DATA_PATH + CATEGORY_SEASONPLAYER + \"SeasonPlayer2013Regular.csv\")"
     ],
     "language": "python",
     "metadata": {},
     "outputs": [],
     "prompt_number": 3
    },
    {
     "cell_type": "code",
     "collapsed": false,
     "input": [
      "pos = \"PF\"\n",
      "expVar1 = \"AST\"\n",
      "expVar2 = \"FG%\""
     ],
     "language": "python",
     "metadata": {},
     "outputs": [],
     "prompt_number": 8
    },
    {
     "cell_type": "code",
     "collapsed": false,
     "input": [
      "playerDF = rawDF[rawDF[\"Pos\"] == pos][[\"Player\", \"Tm\", expVar1, expVar2]]"
     ],
     "language": "python",
     "metadata": {},
     "outputs": [],
     "prompt_number": 13
    },
    {
     "cell_type": "code",
     "collapsed": false,
     "input": [
      "playerDF.head()"
     ],
     "language": "python",
     "metadata": {},
     "outputs": [
      {
       "html": [
        "<div style=\"max-height:1000px;max-width:1500px;overflow:auto;\">\n",
        "<table border=\"1\" class=\"dataframe\">\n",
        "  <thead>\n",
        "    <tr style=\"text-align: right;\">\n",
        "      <th></th>\n",
        "      <th>Player</th>\n",
        "      <th>Tm</th>\n",
        "      <th>AST</th>\n",
        "      <th>FG%</th>\n",
        "    </tr>\n",
        "  </thead>\n",
        "  <tbody>\n",
        "    <tr>\n",
        "      <th>0 </th>\n",
        "      <td>        Quincy Acy</td>\n",
        "      <td> TOR</td>\n",
        "      <td> 0.4</td>\n",
        "      <td> .560</td>\n",
        "    </tr>\n",
        "    <tr>\n",
        "      <th>1 </th>\n",
        "      <td>       Jeff Adrien</td>\n",
        "      <td> CHA</td>\n",
        "      <td> 0.7</td>\n",
        "      <td> .429</td>\n",
        "    </tr>\n",
        "    <tr>\n",
        "      <th>7 </th>\n",
        "      <td> LaMarcus Aldridge</td>\n",
        "      <td> POR</td>\n",
        "      <td> 2.6</td>\n",
        "      <td> .484</td>\n",
        "    </tr>\n",
        "    <tr>\n",
        "      <th>14</th>\n",
        "      <td>    Louis Amundson</td>\n",
        "      <td> CHI</td>\n",
        "      <td> 0.0</td>\n",
        "      <td> .000</td>\n",
        "    </tr>\n",
        "    <tr>\n",
        "      <th>21</th>\n",
        "      <td>     Ryan Anderson</td>\n",
        "      <td> NOH</td>\n",
        "      <td> 1.2</td>\n",
        "      <td> .423</td>\n",
        "    </tr>\n",
        "  </tbody>\n",
        "</table>\n",
        "</div>"
       ],
       "metadata": {},
       "output_type": "pyout",
       "prompt_number": 14,
       "text": [
        "               Player   Tm  AST   FG%\n",
        "0          Quincy Acy  TOR  0.4  .560\n",
        "1         Jeff Adrien  CHA  0.7  .429\n",
        "7   LaMarcus Aldridge  POR  2.6  .484\n",
        "14     Louis Amundson  CHI  0.0  .000\n",
        "21      Ryan Anderson  NOH  1.2  .423"
       ]
      }
     ],
     "prompt_number": 14
    },
    {
     "cell_type": "code",
     "collapsed": false,
     "input": [
      "clusterMatrix = playerDF[[expVar1, expVar2]].as_matrix()"
     ],
     "language": "python",
     "metadata": {},
     "outputs": [],
     "prompt_number": 16
    },
    {
     "cell_type": "code",
     "collapsed": false,
     "input": [
      "from sklearn.cluster import KMeans\n",
      "kmeans_5 = KMeans(n_clusters=5, n_init=1)\n",
      "kmeans_5.fit(clusterMatrix)"
     ],
     "language": "python",
     "metadata": {},
     "outputs": [
      {
       "metadata": {},
       "output_type": "pyout",
       "prompt_number": 20,
       "text": [
        "KMeans(copy_x=True, init='k-means++', max_iter=300, n_clusters=5, n_init=1,\n",
        "    n_jobs=1, precompute_distances=True, random_state=None, tol=0.0001,\n",
        "    verbose=0)"
       ]
      }
     ],
     "prompt_number": 20
    },
    {
     "cell_type": "code",
     "collapsed": false,
     "input": [
      "from sklearn.metrics import silhouette_score\n",
      "print \"Inertia for KMeans with 5 clusters = %lf \" % kmeans_5.inertia_\n",
      "print \"Silhouette Score for KMeans with 5 clusters = %lf\" % silhouette_score(clusterMatrix, kmeans_5.labels_, sample_size=500)"
     ],
     "language": "python",
     "metadata": {},
     "outputs": [
      {
       "output_type": "stream",
       "stream": "stdout",
       "text": [
        "Inertia for KMeans with 5 clusters = 7.683703 \n",
        "Silhouette Score for KMeans with 5 clusters = 0.570861"
       ]
      },
      {
       "output_type": "stream",
       "stream": "stdout",
       "text": [
        "\n"
       ]
      },
      {
       "output_type": "stream",
       "stream": "stderr",
       "text": [
        "/opt/local/Library/Frameworks/Python.framework/Versions/2.7/lib/python2.7/site-packages/numpy/core/_methods.py:55: RuntimeWarning: Mean of empty slice.\n",
        "  warnings.warn(\"Mean of empty slice.\", RuntimeWarning)\n"
       ]
      }
     ],
     "prompt_number": 22
    },
    {
     "cell_type": "code",
     "collapsed": false,
     "input": [
      "playerDF[\"Cluster\"] = kmeans_5.labels_"
     ],
     "language": "python",
     "metadata": {},
     "outputs": [],
     "prompt_number": 24
    },
    {
     "cell_type": "code",
     "collapsed": false,
     "input": [
      "playerDF.reset_index(inplace = True, drop=True)"
     ],
     "language": "python",
     "metadata": {},
     "outputs": [],
     "prompt_number": 36
    },
    {
     "cell_type": "code",
     "collapsed": false,
     "input": [
      "playerDF.head()"
     ],
     "language": "python",
     "metadata": {},
     "outputs": [
      {
       "html": [
        "<div style=\"max-height:1000px;max-width:1500px;overflow:auto;\">\n",
        "<table border=\"1\" class=\"dataframe\">\n",
        "  <thead>\n",
        "    <tr style=\"text-align: right;\">\n",
        "      <th></th>\n",
        "      <th>Player</th>\n",
        "      <th>Tm</th>\n",
        "      <th>AST</th>\n",
        "      <th>FG%</th>\n",
        "      <th>Cluster</th>\n",
        "    </tr>\n",
        "  </thead>\n",
        "  <tbody>\n",
        "    <tr>\n",
        "      <th>0</th>\n",
        "      <td>        Quincy Acy</td>\n",
        "      <td> TOR</td>\n",
        "      <td> 0.4</td>\n",
        "      <td> .560</td>\n",
        "      <td> 0</td>\n",
        "    </tr>\n",
        "    <tr>\n",
        "      <th>1</th>\n",
        "      <td>       Jeff Adrien</td>\n",
        "      <td> CHA</td>\n",
        "      <td> 0.7</td>\n",
        "      <td> .429</td>\n",
        "      <td> 0</td>\n",
        "    </tr>\n",
        "    <tr>\n",
        "      <th>2</th>\n",
        "      <td> LaMarcus Aldridge</td>\n",
        "      <td> POR</td>\n",
        "      <td> 2.6</td>\n",
        "      <td> .484</td>\n",
        "      <td> 4</td>\n",
        "    </tr>\n",
        "    <tr>\n",
        "      <th>3</th>\n",
        "      <td>    Louis Amundson</td>\n",
        "      <td> CHI</td>\n",
        "      <td> 0.0</td>\n",
        "      <td> .000</td>\n",
        "      <td> 0</td>\n",
        "    </tr>\n",
        "    <tr>\n",
        "      <th>4</th>\n",
        "      <td>     Ryan Anderson</td>\n",
        "      <td> NOH</td>\n",
        "      <td> 1.2</td>\n",
        "      <td> .423</td>\n",
        "      <td> 2</td>\n",
        "    </tr>\n",
        "  </tbody>\n",
        "</table>\n",
        "</div>"
       ],
       "metadata": {},
       "output_type": "pyout",
       "prompt_number": 39,
       "text": [
        "              Player   Tm  AST   FG%  Cluster\n",
        "0         Quincy Acy  TOR  0.4  .560        0\n",
        "1        Jeff Adrien  CHA  0.7  .429        0\n",
        "2  LaMarcus Aldridge  POR  2.6  .484        4\n",
        "3     Louis Amundson  CHI  0.0  .000        0\n",
        "4      Ryan Anderson  NOH  1.2  .423        2"
       ]
      }
     ],
     "prompt_number": 39
    },
    {
     "cell_type": "code",
     "collapsed": false,
     "input": [
      "obj = [{\"_name\": playerDF.ix[i, \"Player\"], \"_tm\": playerDF.ix[i, \"Tm\"], \"var1\": playerDF.ix[i, 2], \"var2\": playerDF.ix[i, 3], \n",
      "  \"cluster\": playerDF.ix[i, \"Cluster\"]}\n",
      "        for i in range(len(playerDF))]"
     ],
     "language": "python",
     "metadata": {},
     "outputs": [],
     "prompt_number": 45
    },
    {
     "cell_type": "code",
     "collapsed": false,
     "input": [
      "centroids = kmeans_5.cluster_centers_\n",
      "print centroids"
     ],
     "language": "python",
     "metadata": {},
     "outputs": [
      {
       "output_type": "stream",
       "stream": "stdout",
       "text": [
        "[[ 0.50454545  0.44134848]\n",
        " [ 3.76        0.476     ]\n",
        " [ 1.30434783  0.47356522]\n",
        " [ 7.3         0.565     ]\n",
        " [ 2.44666667  0.47246667]]\n"
       ]
      }
     ],
     "prompt_number": 47
    },
    {
     "cell_type": "code",
     "collapsed": false,
     "input": [
      "centroids[0,0]"
     ],
     "language": "python",
     "metadata": {},
     "outputs": [
      {
       "metadata": {},
       "output_type": "pyout",
       "prompt_number": 48,
       "text": [
        "0.50454545454545441"
       ]
      }
     ],
     "prompt_number": 48
    },
    {
     "cell_type": "code",
     "collapsed": false,
     "input": [
      "obj2 = [{\"_cluster\": i, \"var1\": centroids[i, 0], \"var2\": centroids[i, 1]} for i in range(len(centroids))]"
     ],
     "language": "python",
     "metadata": {},
     "outputs": [],
     "prompt_number": 49
    },
    {
     "cell_type": "code",
     "collapsed": false,
     "input": [
      "salaryDF = pd.read_csv(DATA_PATH + CATEGORY_SALARIES + \"salaryData2013.csv\", header = None)"
     ],
     "language": "python",
     "metadata": {},
     "outputs": [],
     "prompt_number": 52
    },
    {
     "cell_type": "code",
     "collapsed": false,
     "input": [
      "salaryDF.head()"
     ],
     "language": "python",
     "metadata": {},
     "outputs": [
      {
       "html": [
        "<div style=\"max-height:1000px;max-width:1500px;overflow:auto;\">\n",
        "<table border=\"1\" class=\"dataframe\">\n",
        "  <thead>\n",
        "    <tr style=\"text-align: right;\">\n",
        "      <th></th>\n",
        "      <th>0</th>\n",
        "      <th>1</th>\n",
        "    </tr>\n",
        "  </thead>\n",
        "  <tbody>\n",
        "    <tr>\n",
        "      <th>0</th>\n",
        "      <td>        Pau Gasol</td>\n",
        "      <td> $19,285,850</td>\n",
        "    </tr>\n",
        "    <tr>\n",
        "      <th>1</th>\n",
        "      <td>      George Hill</td>\n",
        "      <td>  $8,000,000</td>\n",
        "    </tr>\n",
        "    <tr>\n",
        "      <th>2</th>\n",
        "      <td>      Joakim Noah</td>\n",
        "      <td> $11,100,000</td>\n",
        "    </tr>\n",
        "    <tr>\n",
        "      <th>3</th>\n",
        "      <td> Derrick Williams</td>\n",
        "      <td>  $5,016,960</td>\n",
        "    </tr>\n",
        "    <tr>\n",
        "      <th>4</th>\n",
        "      <td>       Randy Foye</td>\n",
        "      <td>  $3,000,000</td>\n",
        "    </tr>\n",
        "  </tbody>\n",
        "</table>\n",
        "</div>"
       ],
       "metadata": {},
       "output_type": "pyout",
       "prompt_number": 53,
       "text": [
        "                  0            1\n",
        "0         Pau Gasol  $19,285,850\n",
        "1       George Hill   $8,000,000\n",
        "2       Joakim Noah  $11,100,000\n",
        "3  Derrick Williams   $5,016,960\n",
        "4        Randy Foye   $3,000,000"
       ]
      }
     ],
     "prompt_number": 53
    },
    {
     "cell_type": "code",
     "collapsed": false,
     "input": [
      "ages = rawDF[[\"Player\", \"Age\"]]"
     ],
     "language": "python",
     "metadata": {},
     "outputs": [],
     "prompt_number": 57
    },
    {
     "cell_type": "code",
     "collapsed": false,
     "input": [
      "ages.head()"
     ],
     "language": "python",
     "metadata": {},
     "outputs": [
      {
       "html": [
        "<div style=\"max-height:1000px;max-width:1500px;overflow:auto;\">\n",
        "<table border=\"1\" class=\"dataframe\">\n",
        "  <thead>\n",
        "    <tr style=\"text-align: right;\">\n",
        "      <th></th>\n",
        "      <th>Player</th>\n",
        "      <th>Age</th>\n",
        "    </tr>\n",
        "  </thead>\n",
        "  <tbody>\n",
        "    <tr>\n",
        "      <th>0</th>\n",
        "      <td>    Quincy Acy</td>\n",
        "      <td> 22</td>\n",
        "    </tr>\n",
        "    <tr>\n",
        "      <th>1</th>\n",
        "      <td>   Jeff Adrien</td>\n",
        "      <td> 26</td>\n",
        "    </tr>\n",
        "    <tr>\n",
        "      <th>2</th>\n",
        "      <td> Arron Afflalo</td>\n",
        "      <td> 27</td>\n",
        "    </tr>\n",
        "    <tr>\n",
        "      <th>3</th>\n",
        "      <td>  Josh Akognon</td>\n",
        "      <td> 26</td>\n",
        "    </tr>\n",
        "    <tr>\n",
        "      <th>4</th>\n",
        "      <td>  Cole Aldrich</td>\n",
        "      <td> 24</td>\n",
        "    </tr>\n",
        "  </tbody>\n",
        "</table>\n",
        "</div>"
       ],
       "metadata": {},
       "output_type": "pyout",
       "prompt_number": 60,
       "text": [
        "          Player Age\n",
        "0     Quincy Acy  22\n",
        "1    Jeff Adrien  26\n",
        "2  Arron Afflalo  27\n",
        "3   Josh Akognon  26\n",
        "4   Cole Aldrich  24"
       ]
      }
     ],
     "prompt_number": 60
    },
    {
     "cell_type": "code",
     "collapsed": false,
     "input": [
      "salaryDF.head()"
     ],
     "language": "python",
     "metadata": {},
     "outputs": [
      {
       "html": [
        "<div style=\"max-height:1000px;max-width:1500px;overflow:auto;\">\n",
        "<table border=\"1\" class=\"dataframe\">\n",
        "  <thead>\n",
        "    <tr style=\"text-align: right;\">\n",
        "      <th></th>\n",
        "      <th>0</th>\n",
        "      <th>1</th>\n",
        "    </tr>\n",
        "  </thead>\n",
        "  <tbody>\n",
        "    <tr>\n",
        "      <th>0</th>\n",
        "      <td>        Pau Gasol</td>\n",
        "      <td> $19,285,850</td>\n",
        "    </tr>\n",
        "    <tr>\n",
        "      <th>1</th>\n",
        "      <td>      George Hill</td>\n",
        "      <td>  $8,000,000</td>\n",
        "    </tr>\n",
        "    <tr>\n",
        "      <th>2</th>\n",
        "      <td>      Joakim Noah</td>\n",
        "      <td> $11,100,000</td>\n",
        "    </tr>\n",
        "    <tr>\n",
        "      <th>3</th>\n",
        "      <td> Derrick Williams</td>\n",
        "      <td>  $5,016,960</td>\n",
        "    </tr>\n",
        "    <tr>\n",
        "      <th>4</th>\n",
        "      <td>       Randy Foye</td>\n",
        "      <td>  $3,000,000</td>\n",
        "    </tr>\n",
        "  </tbody>\n",
        "</table>\n",
        "</div>"
       ],
       "metadata": {},
       "output_type": "pyout",
       "prompt_number": 59,
       "text": [
        "                  0            1\n",
        "0         Pau Gasol  $19,285,850\n",
        "1       George Hill   $8,000,000\n",
        "2       Joakim Noah  $11,100,000\n",
        "3  Derrick Williams   $5,016,960\n",
        "4        Randy Foye   $3,000,000"
       ]
      }
     ],
     "prompt_number": 59
    },
    {
     "cell_type": "code",
     "collapsed": false,
     "input": [],
     "language": "python",
     "metadata": {},
     "outputs": []
    }
   ],
   "metadata": {}
  }
 ]
}