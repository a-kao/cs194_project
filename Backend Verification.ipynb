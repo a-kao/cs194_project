{
 "metadata": {
  "name": ""
 },
 "nbformat": 3,
 "nbformat_minor": 0,
 "worksheets": [
  {
   "cells": [
    {
     "cell_type": "code",
     "collapsed": false,
     "input": [
      "import numpy as np\n",
      "import pandas as pd\n",
      "import json\n",
      "\n",
      "DATA_PATH = \"/Users/Alan_Work/Desktop/CS194/cs194_project/data/\"\n",
      "CATEGORY_SEASONPLAYER = \"SeasonPlayer/\"\n",
      "CATEGORY_SALARIES= \"Salaries/\"\n",
      "CATEGORY_PLAYERCAREER = \"PlayerCareerPerGame/\"\n",
      "CATEGORY_GAMES = \"Games/\"\n",
      "CATEGORY_GAMEDETAILS = \"GameDetails/\""
     ],
     "language": "python",
     "metadata": {},
     "outputs": [],
     "prompt_number": 1
    },
    {
     "cell_type": "code",
     "collapsed": false,
     "input": [
      "def loadData():\n",
      "    global seasonDataRegular\n",
      "    seasonDataRegular = dict()\n",
      "    global seasonDataAdvanced\n",
      "    seasonDataAdvanced = dict()\n",
      "    global seasonSalaries\n",
      "    seasonSalaries = dict()\n",
      "\n",
      "    pathToSeason = DATA_PATH + CATEGORY_SEASONPLAYER\n",
      "    for i in range(9, 14):\n",
      "        season = i + 2000\n",
      "        seasonDataRegular[season] = pd.read_csv(pathToSeason + \"SeasonPlayer\" + str(season) + \"Regular.csv\")\n",
      "        seasonDataAdvanced[season] = pd.read_csv(pathToSeason + \"SeasonPlayer\" + str(season) + \"Advanced.csv\")"
     ],
     "language": "python",
     "metadata": {},
     "outputs": [],
     "prompt_number": 2
    },
    {
     "cell_type": "code",
     "collapsed": false,
     "input": [
      "loadData()"
     ],
     "language": "python",
     "metadata": {},
     "outputs": [],
     "prompt_number": 3
    },
    {
     "cell_type": "code",
     "collapsed": false,
     "input": [
      "pos = \"PF\"\n",
      "expVar1 = \"GS\"\n",
      "expVar2 = \"PER\"\n",
      "season = 2013"
     ],
     "language": "python",
     "metadata": {},
     "outputs": [],
     "prompt_number": 25
    },
    {
     "cell_type": "code",
     "collapsed": false,
     "input": [
      "regularHeaders = seasonDataRegular[season].columns.values.tolist()\n",
      "rawDF = pd.DataFrame({\"Player\": seasonDataRegular[season][\"Player\"], \"Tm\": seasonDataRegular[season][\"Tm\"], \"Pos\": seasonDataRegular[season][\"Pos\"]})\n"
     ],
     "language": "python",
     "metadata": {},
     "outputs": [],
     "prompt_number": 30
    },
    {
     "cell_type": "code",
     "collapsed": false,
     "input": [
      "rawDF.head()"
     ],
     "language": "python",
     "metadata": {},
     "outputs": [
      {
       "html": [
        "<div style=\"max-height:1000px;max-width:1500px;overflow:auto;\">\n",
        "<table border=\"1\" class=\"dataframe\">\n",
        "  <thead>\n",
        "    <tr style=\"text-align: right;\">\n",
        "      <th></th>\n",
        "      <th>Player</th>\n",
        "      <th>Pos</th>\n",
        "      <th>Tm</th>\n",
        "    </tr>\n",
        "  </thead>\n",
        "  <tbody>\n",
        "    <tr>\n",
        "      <th>0</th>\n",
        "      <td>    Quincy Acy</td>\n",
        "      <td> PF</td>\n",
        "      <td> TOR</td>\n",
        "    </tr>\n",
        "    <tr>\n",
        "      <th>1</th>\n",
        "      <td>   Jeff Adrien</td>\n",
        "      <td> PF</td>\n",
        "      <td> CHA</td>\n",
        "    </tr>\n",
        "    <tr>\n",
        "      <th>2</th>\n",
        "      <td> Arron Afflalo</td>\n",
        "      <td> SF</td>\n",
        "      <td> ORL</td>\n",
        "    </tr>\n",
        "    <tr>\n",
        "      <th>3</th>\n",
        "      <td>  Josh Akognon</td>\n",
        "      <td> PG</td>\n",
        "      <td> DAL</td>\n",
        "    </tr>\n",
        "    <tr>\n",
        "      <th>4</th>\n",
        "      <td>  Cole Aldrich</td>\n",
        "      <td>  C</td>\n",
        "      <td> TOT</td>\n",
        "    </tr>\n",
        "  </tbody>\n",
        "</table>\n",
        "</div>"
       ],
       "metadata": {},
       "output_type": "pyout",
       "prompt_number": 31,
       "text": [
        "          Player Pos   Tm\n",
        "0     Quincy Acy  PF  TOR\n",
        "1    Jeff Adrien  PF  CHA\n",
        "2  Arron Afflalo  SF  ORL\n",
        "3   Josh Akognon  PG  DAL\n",
        "4   Cole Aldrich   C  TOT"
       ]
      }
     ],
     "prompt_number": 31
    },
    {
     "cell_type": "code",
     "collapsed": false,
     "input": [],
     "language": "python",
     "metadata": {},
     "outputs": []
    },
    {
     "cell_type": "code",
     "collapsed": false,
     "input": [
      "#Get expVar1\n",
      "if(expVar1 in regularHeaders):\n",
      "    rawDF[expVar1] = seasonDataRegular[season][expVar1]\n",
      "else:\n",
      "    rawDF[expVar1] = seasonDataAdvanced[season][expVar1]\n",
      "\n",
      "#Get expVar2\n",
      "if(expVar2 in regularHeaders):\n",
      "    rawDF[expVar2] = seasonDataRegular[season][expVar2]\n",
      "else:\n",
      "    rawDF[expVar2] = seasonDataAdvanced[season][expVar2]"
     ],
     "language": "python",
     "metadata": {},
     "outputs": [],
     "prompt_number": 32
    },
    {
     "cell_type": "code",
     "collapsed": false,
     "input": [
      "seasonDataRegular[season].columns.values.tolist()"
     ],
     "language": "python",
     "metadata": {},
     "outputs": [
      {
       "metadata": {},
       "output_type": "pyout",
       "prompt_number": 33,
       "text": [
        "['Rk',\n",
        " 'Player',\n",
        " 'Pos',\n",
        " 'Age',\n",
        " 'Tm',\n",
        " 'G',\n",
        " 'GS',\n",
        " 'MP',\n",
        " 'FG',\n",
        " 'FGA',\n",
        " 'FG%',\n",
        " '3P',\n",
        " '3PA',\n",
        " '3P%',\n",
        " '2P',\n",
        " '2PA',\n",
        " '2P%',\n",
        " 'FT',\n",
        " 'FTA',\n",
        " 'FT%',\n",
        " 'ORB',\n",
        " 'DRB',\n",
        " 'TRB',\n",
        " 'AST',\n",
        " 'STL',\n",
        " 'BLK',\n",
        " 'TOV',\n",
        " 'PF',\n",
        " 'PTS']"
       ]
      }
     ],
     "prompt_number": 33
    },
    {
     "cell_type": "code",
     "collapsed": false,
     "input": [
      "seasonDataAdvanced[season].columns.values.tolist()"
     ],
     "language": "python",
     "metadata": {},
     "outputs": [
      {
       "metadata": {},
       "output_type": "pyout",
       "prompt_number": 34,
       "text": [
        "['Rk',\n",
        " 'Player',\n",
        " 'Pos',\n",
        " 'Age',\n",
        " 'Tm',\n",
        " 'G',\n",
        " 'MP',\n",
        " 'PER',\n",
        " 'TS%',\n",
        " 'eFG%',\n",
        " 'FTr',\n",
        " '3PAr',\n",
        " 'ORB%',\n",
        " 'DRB%',\n",
        " 'TRB%',\n",
        " 'AST%',\n",
        " 'STL%',\n",
        " 'BLK%',\n",
        " 'TOV%',\n",
        " 'USG%',\n",
        " 'ORtg',\n",
        " 'DRtg',\n",
        " 'OWS',\n",
        " 'DWS',\n",
        " 'WS',\n",
        " 'WS/48']"
       ]
      }
     ],
     "prompt_number": 34
    },
    {
     "cell_type": "code",
     "collapsed": false,
     "input": [
      "rawDF.head()"
     ],
     "language": "python",
     "metadata": {},
     "outputs": [
      {
       "html": [
        "<div style=\"max-height:1000px;max-width:1500px;overflow:auto;\">\n",
        "<table border=\"1\" class=\"dataframe\">\n",
        "  <thead>\n",
        "    <tr style=\"text-align: right;\">\n",
        "      <th></th>\n",
        "      <th>Player</th>\n",
        "      <th>Pos</th>\n",
        "      <th>Tm</th>\n",
        "      <th>GS</th>\n",
        "      <th>PER</th>\n",
        "    </tr>\n",
        "  </thead>\n",
        "  <tbody>\n",
        "    <tr>\n",
        "      <th>0</th>\n",
        "      <td>    Quincy Acy</td>\n",
        "      <td> PF</td>\n",
        "      <td> TOR</td>\n",
        "      <td>  0</td>\n",
        "      <td> 15.9</td>\n",
        "    </tr>\n",
        "    <tr>\n",
        "      <th>1</th>\n",
        "      <td>   Jeff Adrien</td>\n",
        "      <td> PF</td>\n",
        "      <td> CHA</td>\n",
        "      <td>  5</td>\n",
        "      <td> 13.4</td>\n",
        "    </tr>\n",
        "    <tr>\n",
        "      <th>2</th>\n",
        "      <td> Arron Afflalo</td>\n",
        "      <td> SF</td>\n",
        "      <td> ORL</td>\n",
        "      <td> 64</td>\n",
        "      <td> 13.0</td>\n",
        "    </tr>\n",
        "    <tr>\n",
        "      <th>3</th>\n",
        "      <td>  Josh Akognon</td>\n",
        "      <td> PG</td>\n",
        "      <td> DAL</td>\n",
        "      <td>  0</td>\n",
        "      <td> 15.3</td>\n",
        "    </tr>\n",
        "    <tr>\n",
        "      <th>4</th>\n",
        "      <td>  Cole Aldrich</td>\n",
        "      <td>  C</td>\n",
        "      <td> TOT</td>\n",
        "      <td>  0</td>\n",
        "      <td> 11.1</td>\n",
        "    </tr>\n",
        "  </tbody>\n",
        "</table>\n",
        "</div>"
       ],
       "metadata": {},
       "output_type": "pyout",
       "prompt_number": 35,
       "text": [
        "          Player Pos   Tm  GS   PER\n",
        "0     Quincy Acy  PF  TOR   0  15.9\n",
        "1    Jeff Adrien  PF  CHA   5  13.4\n",
        "2  Arron Afflalo  SF  ORL  64  13.0\n",
        "3   Josh Akognon  PG  DAL   0  15.3\n",
        "4   Cole Aldrich   C  TOT   0  11.1"
       ]
      }
     ],
     "prompt_number": 35
    },
    {
     "cell_type": "code",
     "collapsed": false,
     "input": [
      "playerDF = rawDF[rawDF[\"Pos\"] == pos].drop(\"Pos\", 1)"
     ],
     "language": "python",
     "metadata": {},
     "outputs": [],
     "prompt_number": 39
    },
    {
     "cell_type": "code",
     "collapsed": false,
     "input": [
      "playerDF.head()"
     ],
     "language": "python",
     "metadata": {},
     "outputs": [
      {
       "html": [
        "<div style=\"max-height:1000px;max-width:1500px;overflow:auto;\">\n",
        "<table border=\"1\" class=\"dataframe\">\n",
        "  <thead>\n",
        "    <tr style=\"text-align: right;\">\n",
        "      <th></th>\n",
        "      <th>Player</th>\n",
        "      <th>Tm</th>\n",
        "      <th>GS</th>\n",
        "      <th>PER</th>\n",
        "    </tr>\n",
        "  </thead>\n",
        "  <tbody>\n",
        "    <tr>\n",
        "      <th>0 </th>\n",
        "      <td>        Quincy Acy</td>\n",
        "      <td> TOR</td>\n",
        "      <td>  0</td>\n",
        "      <td> 15.9</td>\n",
        "    </tr>\n",
        "    <tr>\n",
        "      <th>1 </th>\n",
        "      <td>       Jeff Adrien</td>\n",
        "      <td> CHA</td>\n",
        "      <td>  5</td>\n",
        "      <td> 13.4</td>\n",
        "    </tr>\n",
        "    <tr>\n",
        "      <th>7 </th>\n",
        "      <td> LaMarcus Aldridge</td>\n",
        "      <td> POR</td>\n",
        "      <td> 74</td>\n",
        "      <td> 20.4</td>\n",
        "    </tr>\n",
        "    <tr>\n",
        "      <th>14</th>\n",
        "      <td>    Louis Amundson</td>\n",
        "      <td> CHI</td>\n",
        "      <td>  0</td>\n",
        "      <td>  0.0</td>\n",
        "    </tr>\n",
        "    <tr>\n",
        "      <th>21</th>\n",
        "      <td>     Ryan Anderson</td>\n",
        "      <td> NOH</td>\n",
        "      <td> 22</td>\n",
        "      <td> 18.1</td>\n",
        "    </tr>\n",
        "  </tbody>\n",
        "</table>\n",
        "</div>"
       ],
       "metadata": {},
       "output_type": "pyout",
       "prompt_number": 40,
       "text": [
        "               Player   Tm  GS   PER\n",
        "0          Quincy Acy  TOR   0  15.9\n",
        "1         Jeff Adrien  CHA   5  13.4\n",
        "7   LaMarcus Aldridge  POR  74  20.4\n",
        "14     Louis Amundson  CHI   0   0.0\n",
        "21      Ryan Anderson  NOH  22  18.1"
       ]
      }
     ],
     "prompt_number": 40
    },
    {
     "cell_type": "code",
     "collapsed": false,
     "input": [
      "clusterMatrix = playerDF[[expVar1, expVar2]].as_matrix()"
     ],
     "language": "python",
     "metadata": {},
     "outputs": [],
     "prompt_number": 41
    },
    {
     "cell_type": "code",
     "collapsed": false,
     "input": [
      "clusterMatrix.shape"
     ],
     "language": "python",
     "metadata": {},
     "outputs": [
      {
       "metadata": {},
       "output_type": "pyout",
       "prompt_number": 42,
       "text": [
        "(110, 2)"
       ]
      }
     ],
     "prompt_number": 42
    },
    {
     "cell_type": "code",
     "collapsed": false,
     "input": [
      "from sklearn.cluster import KMeans\n",
      "kmeans_5 = KMeans(n_clusters=5, n_init=1)\n",
      "kmeans_5.fit(clusterMatrix)"
     ],
     "language": "python",
     "metadata": {},
     "outputs": [
      {
       "metadata": {},
       "output_type": "pyout",
       "prompt_number": 44,
       "text": [
        "KMeans(copy_x=True, init='k-means++', max_iter=300, n_clusters=5, n_init=1,\n",
        "    n_jobs=1, precompute_distances=True, random_state=None, tol=0.0001,\n",
        "    verbose=0)"
       ]
      }
     ],
     "prompt_number": 44
    },
    {
     "cell_type": "code",
     "collapsed": false,
     "input": [
      "import math\n",
      "playerDF[\"Cluster\"] = kmeans_5.labels_.tolist()\n",
      "playerDF.reset_index(inplace = True, drop=True)\n",
      "centroids = kmeans_5.cluster_centers_\n",
      "clusterRadius = {}\n",
      "for name, group in playerDF.groupby(['Cluster']):\n",
      "    radius = 0\n",
      "    coordinate = (0,0)\n",
      "    for index, row in group.iterrows():\n",
      "        dist = math.sqrt((float(row[expVar1])-float(centroids[name, 0]))**2 + (float(row[expVar2])-float(centroids[name, 1]))**2)\n",
      "        if (dist > radius):\n",
      "            radius = dist\n",
      "            coordinate = (row[expVar1], row[expVar2])\n",
      "    clusterRadius[name] = coordinate"
     ],
     "language": "python",
     "metadata": {},
     "outputs": [],
     "prompt_number": 46
    },
    {
     "cell_type": "code",
     "collapsed": false,
     "input": [
      "playerDF.head()"
     ],
     "language": "python",
     "metadata": {},
     "outputs": [
      {
       "html": [
        "<div style=\"max-height:1000px;max-width:1500px;overflow:auto;\">\n",
        "<table border=\"1\" class=\"dataframe\">\n",
        "  <thead>\n",
        "    <tr style=\"text-align: right;\">\n",
        "      <th></th>\n",
        "      <th>Player</th>\n",
        "      <th>Tm</th>\n",
        "      <th>GS</th>\n",
        "      <th>PER</th>\n",
        "      <th>Cluster</th>\n",
        "    </tr>\n",
        "  </thead>\n",
        "  <tbody>\n",
        "    <tr>\n",
        "      <th>0</th>\n",
        "      <td>        Quincy Acy</td>\n",
        "      <td> TOR</td>\n",
        "      <td>  0</td>\n",
        "      <td> 15.9</td>\n",
        "      <td> 0</td>\n",
        "    </tr>\n",
        "    <tr>\n",
        "      <th>1</th>\n",
        "      <td>       Jeff Adrien</td>\n",
        "      <td> CHA</td>\n",
        "      <td>  5</td>\n",
        "      <td> 13.4</td>\n",
        "      <td> 0</td>\n",
        "    </tr>\n",
        "    <tr>\n",
        "      <th>2</th>\n",
        "      <td> LaMarcus Aldridge</td>\n",
        "      <td> POR</td>\n",
        "      <td> 74</td>\n",
        "      <td> 20.4</td>\n",
        "      <td> 1</td>\n",
        "    </tr>\n",
        "    <tr>\n",
        "      <th>3</th>\n",
        "      <td>    Louis Amundson</td>\n",
        "      <td> CHI</td>\n",
        "      <td>  0</td>\n",
        "      <td>  0.0</td>\n",
        "      <td> 2</td>\n",
        "    </tr>\n",
        "    <tr>\n",
        "      <th>4</th>\n",
        "      <td>     Ryan Anderson</td>\n",
        "      <td> NOH</td>\n",
        "      <td> 22</td>\n",
        "      <td> 18.1</td>\n",
        "      <td> 4</td>\n",
        "    </tr>\n",
        "  </tbody>\n",
        "</table>\n",
        "</div>"
       ],
       "metadata": {},
       "output_type": "pyout",
       "prompt_number": 47,
       "text": [
        "              Player   Tm  GS   PER  Cluster\n",
        "0         Quincy Acy  TOR   0  15.9        0\n",
        "1        Jeff Adrien  CHA   5  13.4        0\n",
        "2  LaMarcus Aldridge  POR  74  20.4        1\n",
        "3     Louis Amundson  CHI   0   0.0        2\n",
        "4      Ryan Anderson  NOH  22  18.1        4"
       ]
      }
     ],
     "prompt_number": 47
    },
    {
     "cell_type": "code",
     "collapsed": false,
     "input": [
      "playerObj = [{\"_name\": playerDF.ix[i, \"Player\"], \"_tm\": playerDF.ix[i, \"Tm\"], \"var1\": playerDF.ix[i, 2], \n",
      "    \"var2\": playerDF.ix[i, 3], \"cluster\": np.asscalar(playerDF.ix[i, \"Cluster\"])}\n",
      "    for i in range(len(playerDF))]\n",
      "\n",
      "clusterObj = [{\"_cluster\": i, \"farX\": clusterRadius[i][0], \"farY\": clusterRadius[i][1], \"var1\": np.asscalar(centroids[i, 0]), \"var2\": np.asscalar(centroids[i, 1])}\n",
      "    for i in range(len(centroids))]"
     ],
     "language": "python",
     "metadata": {},
     "outputs": [],
     "prompt_number": 48
    },
    {
     "cell_type": "code",
     "collapsed": false,
     "input": [
      "result = json.dumps({\"_playerObj\": playerObj, \"_clusterObj\": clusterObj})"
     ],
     "language": "python",
     "metadata": {},
     "outputs": [],
     "prompt_number": 49
    },
    {
     "cell_type": "code",
     "collapsed": false,
     "input": [
      "result[:100]"
     ],
     "language": "python",
     "metadata": {},
     "outputs": [
      {
       "metadata": {},
       "output_type": "pyout",
       "prompt_number": 50,
       "text": [
        "'{\"_playerObj\": [{\"cluster\": 0, \"var2\": \"15.9\", \"var1\": \"0\", \"_tm\": \"TOR\", \"_name\": \"Quincy Acy\"}, {\"'"
       ]
      }
     ],
     "prompt_number": 50
    },
    {
     "cell_type": "code",
     "collapsed": false,
     "input": [
      "test = playerDF[\"PER\"]"
     ],
     "language": "python",
     "metadata": {},
     "outputs": [],
     "prompt_number": 51
    },
    {
     "cell_type": "code",
     "collapsed": false,
     "input": [
      "test.std()"
     ],
     "language": "python",
     "metadata": {},
     "outputs": [
      {
       "metadata": {},
       "output_type": "pyout",
       "prompt_number": 53,
       "text": [
        "5.4203801004814078"
       ]
      }
     ],
     "prompt_number": 53
    },
    {
     "cell_type": "code",
     "collapsed": false,
     "input": [
      "clusterMatrix = playerDF[[expVar1, expVar2]].as_matrix()"
     ],
     "language": "python",
     "metadata": {},
     "outputs": [],
     "prompt_number": 6
    },
    {
     "cell_type": "code",
     "collapsed": false,
     "input": [
      "from sklearn.cluster import KMeans\n",
      "kmeans_5 = KMeans(n_clusters=5, n_init=1)\n",
      "kmeans_5.fit(clusterMatrix)"
     ],
     "language": "python",
     "metadata": {},
     "outputs": [
      {
       "metadata": {},
       "output_type": "pyout",
       "prompt_number": 7,
       "text": [
        "KMeans(copy_x=True, init='k-means++', max_iter=300, n_clusters=5, n_init=1,\n",
        "    n_jobs=1, precompute_distances=True, random_state=None, tol=0.0001,\n",
        "    verbose=0)"
       ]
      }
     ],
     "prompt_number": 7
    },
    {
     "cell_type": "code",
     "collapsed": false,
     "input": [
      "from sklearn.metrics import silhouette_score\n",
      "print \"Inertia for KMeans with 5 clusters = %lf \" % kmeans_5.inertia_\n",
      "print \"Silhouette Score for KMeans with 5 clusters = %lf\" % silhouette_score(clusterMatrix, kmeans_5.labels_, sample_size=500)"
     ],
     "language": "python",
     "metadata": {},
     "outputs": [
      {
       "output_type": "stream",
       "stream": "stdout",
       "text": [
        "Inertia for KMeans with 5 clusters = 7.683703 \n",
        "Silhouette Score for KMeans with 5 clusters = 0.570861\n"
       ]
      },
      {
       "output_type": "stream",
       "stream": "stderr",
       "text": [
        "/opt/local/Library/Frameworks/Python.framework/Versions/2.7/lib/python2.7/site-packages/numpy/core/_methods.py:55: RuntimeWarning: Mean of empty slice.\n",
        "  warnings.warn(\"Mean of empty slice.\", RuntimeWarning)\n"
       ]
      }
     ],
     "prompt_number": 8
    },
    {
     "cell_type": "code",
     "collapsed": false,
     "input": [
      "playerDF[\"Cluster\"] = kmeans_5.labels_.astype(int)"
     ],
     "language": "python",
     "metadata": {},
     "outputs": [],
     "prompt_number": 9
    },
    {
     "cell_type": "code",
     "collapsed": false,
     "input": [
      "test = kmeans_5.labels_\n",
      "type(np.asscalar(test[0]))"
     ],
     "language": "python",
     "metadata": {},
     "outputs": [
      {
       "metadata": {},
       "output_type": "pyout",
       "prompt_number": 10,
       "text": [
        "int"
       ]
      }
     ],
     "prompt_number": 10
    },
    {
     "cell_type": "code",
     "collapsed": false,
     "input": [
      "playerDF.reset_index(inplace = True, drop=True)"
     ],
     "language": "python",
     "metadata": {},
     "outputs": [],
     "prompt_number": 11
    },
    {
     "cell_type": "code",
     "collapsed": false,
     "input": [
      "playerDF.head()"
     ],
     "language": "python",
     "metadata": {},
     "outputs": [
      {
       "html": [
        "<div style=\"max-height:1000px;max-width:1500px;overflow:auto;\">\n",
        "<table border=\"1\" class=\"dataframe\">\n",
        "  <thead>\n",
        "    <tr style=\"text-align: right;\">\n",
        "      <th></th>\n",
        "      <th>Player</th>\n",
        "      <th>Tm</th>\n",
        "      <th>AST</th>\n",
        "      <th>FG%</th>\n",
        "      <th>Cluster</th>\n",
        "    </tr>\n",
        "  </thead>\n",
        "  <tbody>\n",
        "    <tr>\n",
        "      <th>0</th>\n",
        "      <td>        Quincy Acy</td>\n",
        "      <td> TOR</td>\n",
        "      <td> 0.4</td>\n",
        "      <td> .560</td>\n",
        "      <td> 0</td>\n",
        "    </tr>\n",
        "    <tr>\n",
        "      <th>1</th>\n",
        "      <td>       Jeff Adrien</td>\n",
        "      <td> CHA</td>\n",
        "      <td> 0.7</td>\n",
        "      <td> .429</td>\n",
        "      <td> 0</td>\n",
        "    </tr>\n",
        "    <tr>\n",
        "      <th>2</th>\n",
        "      <td> LaMarcus Aldridge</td>\n",
        "      <td> POR</td>\n",
        "      <td> 2.6</td>\n",
        "      <td> .484</td>\n",
        "      <td> 1</td>\n",
        "    </tr>\n",
        "    <tr>\n",
        "      <th>3</th>\n",
        "      <td>    Louis Amundson</td>\n",
        "      <td> CHI</td>\n",
        "      <td> 0.0</td>\n",
        "      <td> .000</td>\n",
        "      <td> 0</td>\n",
        "    </tr>\n",
        "    <tr>\n",
        "      <th>4</th>\n",
        "      <td>     Ryan Anderson</td>\n",
        "      <td> NOH</td>\n",
        "      <td> 1.2</td>\n",
        "      <td> .423</td>\n",
        "      <td> 4</td>\n",
        "    </tr>\n",
        "  </tbody>\n",
        "</table>\n",
        "</div>"
       ],
       "metadata": {},
       "output_type": "pyout",
       "prompt_number": 12,
       "text": [
        "              Player   Tm  AST   FG%  Cluster\n",
        "0         Quincy Acy  TOR  0.4  .560        0\n",
        "1        Jeff Adrien  CHA  0.7  .429        0\n",
        "2  LaMarcus Aldridge  POR  2.6  .484        1\n",
        "3     Louis Amundson  CHI  0.0  .000        0\n",
        "4      Ryan Anderson  NOH  1.2  .423        4"
       ]
      }
     ],
     "prompt_number": 12
    },
    {
     "cell_type": "code",
     "collapsed": false,
     "input": [
      "obj = [{\"_name\": playerDF.ix[i, \"Player\"], \"_tm\": playerDF.ix[i, \"Tm\"], \"var1\": playerDF.ix[i, 2], \"var2\": playerDF.ix[i, 3], \n",
      "  \"cluster\": np.asscalar(playerDF.ix[i, \"Cluster\"])}\n",
      "        for i in range(len(playerDF))]"
     ],
     "language": "python",
     "metadata": {},
     "outputs": [],
     "prompt_number": 13
    },
    {
     "cell_type": "code",
     "collapsed": false,
     "input": [
      "type(playerDF.ix[3, \"Cluster\"])"
     ],
     "language": "python",
     "metadata": {},
     "outputs": [
      {
       "metadata": {},
       "output_type": "pyout",
       "prompt_number": 14,
       "text": [
        "numpy.int64"
       ]
      }
     ],
     "prompt_number": 14
    },
    {
     "cell_type": "code",
     "collapsed": false,
     "input": [
      "centroids = kmeans_5.cluster_centers_\n",
      "print centroids"
     ],
     "language": "python",
     "metadata": {},
     "outputs": [
      {
       "output_type": "stream",
       "stream": "stdout",
       "text": [
        "[[ 0.50454545  0.44134848]\n",
        " [ 2.44666667  0.47246667]\n",
        " [ 3.76        0.476     ]\n",
        " [ 7.3         0.565     ]\n",
        " [ 1.30434783  0.47356522]]\n"
       ]
      }
     ],
     "prompt_number": 15
    },
    {
     "cell_type": "code",
     "collapsed": false,
     "input": [
      "centroids[0,0]"
     ],
     "language": "python",
     "metadata": {},
     "outputs": [
      {
       "metadata": {},
       "output_type": "pyout",
       "prompt_number": 16,
       "text": [
        "0.50454545454545441"
       ]
      }
     ],
     "prompt_number": 16
    },
    {
     "cell_type": "code",
     "collapsed": false,
     "input": [
      "obj2 = [{\"_cluster\": i, \"var1\": np.asscalar(centroids[i,0]), \"var2\": np.asscalar(centroids[i, 1])} for i in range(len(centroids))]"
     ],
     "language": "python",
     "metadata": {},
     "outputs": [],
     "prompt_number": 18
    },
    {
     "cell_type": "code",
     "collapsed": false,
     "input": [
      "type(centroids[0, 0])"
     ],
     "language": "python",
     "metadata": {},
     "outputs": [
      {
       "metadata": {},
       "output_type": "pyout",
       "prompt_number": 35,
       "text": [
        "numpy.float64"
       ]
      }
     ],
     "prompt_number": 35
    },
    {
     "cell_type": "code",
     "collapsed": false,
     "input": [
      "jsonResult = json.dumps({\"_playerObj\": obj, \"_clusterObj\": obj2})"
     ],
     "language": "python",
     "metadata": {},
     "outputs": [],
     "prompt_number": 19
    },
    {
     "cell_type": "code",
     "collapsed": false,
     "input": [
      "salaryDF = pd.read_csv(DATA_PATH + CATEGORY_SALARIES + \"salaryData2013.csv\", header = None)"
     ],
     "language": "python",
     "metadata": {},
     "outputs": [],
     "prompt_number": 16
    },
    {
     "cell_type": "code",
     "collapsed": false,
     "input": [
      "salaryDF.head()"
     ],
     "language": "python",
     "metadata": {},
     "outputs": [
      {
       "html": [
        "<div style=\"max-height:1000px;max-width:1500px;overflow:auto;\">\n",
        "<table border=\"1\" class=\"dataframe\">\n",
        "  <thead>\n",
        "    <tr style=\"text-align: right;\">\n",
        "      <th></th>\n",
        "      <th>0</th>\n",
        "      <th>1</th>\n",
        "    </tr>\n",
        "  </thead>\n",
        "  <tbody>\n",
        "    <tr>\n",
        "      <th>0</th>\n",
        "      <td>        Pau Gasol</td>\n",
        "      <td> $19,285,850</td>\n",
        "    </tr>\n",
        "    <tr>\n",
        "      <th>1</th>\n",
        "      <td>      George Hill</td>\n",
        "      <td>  $8,000,000</td>\n",
        "    </tr>\n",
        "    <tr>\n",
        "      <th>2</th>\n",
        "      <td>      Joakim Noah</td>\n",
        "      <td> $11,100,000</td>\n",
        "    </tr>\n",
        "    <tr>\n",
        "      <th>3</th>\n",
        "      <td> Derrick Williams</td>\n",
        "      <td>  $5,016,960</td>\n",
        "    </tr>\n",
        "    <tr>\n",
        "      <th>4</th>\n",
        "      <td>       Randy Foye</td>\n",
        "      <td>  $3,000,000</td>\n",
        "    </tr>\n",
        "  </tbody>\n",
        "</table>\n",
        "</div>"
       ],
       "metadata": {},
       "output_type": "pyout",
       "prompt_number": 17,
       "text": [
        "                  0            1\n",
        "0         Pau Gasol  $19,285,850\n",
        "1       George Hill   $8,000,000\n",
        "2       Joakim Noah  $11,100,000\n",
        "3  Derrick Williams   $5,016,960\n",
        "4        Randy Foye   $3,000,000"
       ]
      }
     ],
     "prompt_number": 17
    },
    {
     "cell_type": "code",
     "collapsed": false,
     "input": [
      "ages = rawDF[[\"Player\", \"Age\"]]"
     ],
     "language": "python",
     "metadata": {},
     "outputs": [],
     "prompt_number": 57
    },
    {
     "cell_type": "code",
     "collapsed": false,
     "input": [
      "ages.head()"
     ],
     "language": "python",
     "metadata": {},
     "outputs": [
      {
       "html": [
        "<div style=\"max-height:1000px;max-width:1500px;overflow:auto;\">\n",
        "<table border=\"1\" class=\"dataframe\">\n",
        "  <thead>\n",
        "    <tr style=\"text-align: right;\">\n",
        "      <th></th>\n",
        "      <th>Player</th>\n",
        "      <th>Age</th>\n",
        "    </tr>\n",
        "  </thead>\n",
        "  <tbody>\n",
        "    <tr>\n",
        "      <th>0</th>\n",
        "      <td>    Quincy Acy</td>\n",
        "      <td> 22</td>\n",
        "    </tr>\n",
        "    <tr>\n",
        "      <th>1</th>\n",
        "      <td>   Jeff Adrien</td>\n",
        "      <td> 26</td>\n",
        "    </tr>\n",
        "    <tr>\n",
        "      <th>2</th>\n",
        "      <td> Arron Afflalo</td>\n",
        "      <td> 27</td>\n",
        "    </tr>\n",
        "    <tr>\n",
        "      <th>3</th>\n",
        "      <td>  Josh Akognon</td>\n",
        "      <td> 26</td>\n",
        "    </tr>\n",
        "    <tr>\n",
        "      <th>4</th>\n",
        "      <td>  Cole Aldrich</td>\n",
        "      <td> 24</td>\n",
        "    </tr>\n",
        "  </tbody>\n",
        "</table>\n",
        "</div>"
       ],
       "metadata": {},
       "output_type": "pyout",
       "prompt_number": 60,
       "text": [
        "          Player Age\n",
        "0     Quincy Acy  22\n",
        "1    Jeff Adrien  26\n",
        "2  Arron Afflalo  27\n",
        "3   Josh Akognon  26\n",
        "4   Cole Aldrich  24"
       ]
      }
     ],
     "prompt_number": 60
    },
    {
     "cell_type": "code",
     "collapsed": false,
     "input": [
      "salaryDF.head()"
     ],
     "language": "python",
     "metadata": {},
     "outputs": [
      {
       "html": [
        "<div style=\"max-height:1000px;max-width:1500px;overflow:auto;\">\n",
        "<table border=\"1\" class=\"dataframe\">\n",
        "  <thead>\n",
        "    <tr style=\"text-align: right;\">\n",
        "      <th></th>\n",
        "      <th>0</th>\n",
        "      <th>1</th>\n",
        "    </tr>\n",
        "  </thead>\n",
        "  <tbody>\n",
        "    <tr>\n",
        "      <th>0</th>\n",
        "      <td>        Pau Gasol</td>\n",
        "      <td> $19,285,850</td>\n",
        "    </tr>\n",
        "    <tr>\n",
        "      <th>1</th>\n",
        "      <td>      George Hill</td>\n",
        "      <td>  $8,000,000</td>\n",
        "    </tr>\n",
        "    <tr>\n",
        "      <th>2</th>\n",
        "      <td>      Joakim Noah</td>\n",
        "      <td> $11,100,000</td>\n",
        "    </tr>\n",
        "    <tr>\n",
        "      <th>3</th>\n",
        "      <td> Derrick Williams</td>\n",
        "      <td>  $5,016,960</td>\n",
        "    </tr>\n",
        "    <tr>\n",
        "      <th>4</th>\n",
        "      <td>       Randy Foye</td>\n",
        "      <td>  $3,000,000</td>\n",
        "    </tr>\n",
        "  </tbody>\n",
        "</table>\n",
        "</div>"
       ],
       "metadata": {},
       "output_type": "pyout",
       "prompt_number": 59,
       "text": [
        "                  0            1\n",
        "0         Pau Gasol  $19,285,850\n",
        "1       George Hill   $8,000,000\n",
        "2       Joakim Noah  $11,100,000\n",
        "3  Derrick Williams   $5,016,960\n",
        "4        Randy Foye   $3,000,000"
       ]
      }
     ],
     "prompt_number": 59
    },
    {
     "cell_type": "code",
     "collapsed": false,
     "input": [],
     "language": "python",
     "metadata": {},
     "outputs": []
    }
   ],
   "metadata": {}
  }
 ]
}